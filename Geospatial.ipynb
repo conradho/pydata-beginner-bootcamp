{
 "cells": [
  {
   "cell_type": "markdown",
   "metadata": {},
   "source": [
    "### The Backstory and the Setup\n",
    "\n",
    "Your friend Kelly is coming to London on vacation and you want to help her plan out her journey- which spots to see and what routes to take to do it in the most efficient way.\n",
    "\n",
    "The data set that we are going to use is the [London tube/overgound locations](https://tfl.gov.uk/info-for/open-data-users/). To save time, we have already pre-downloaded and cleaned the data set for you. If you are interested in doing this yourself, you can register at the tfl website, get an api key, download the file, and clean it by removing all `\\t`, `\\n` and converting dos line endings to unix."
   ]
  },
  {
   "cell_type": "code",
   "execution_count": null,
   "metadata": {
    "collapsed": false
   },
   "outputs": [],
   "source": [
    "import pandas as pd\n",
    "stations = pd.read_hdf('./datasets/london_stations.h5')\n",
    "\n",
    "# quick sanity check\n",
    "stations.head()"
   ]
  },
  {
   "cell_type": "markdown",
   "metadata": {},
   "source": [
    "You can do some pretty cool stuff with a pandas dataframe, including filtering rows using conditionals like so:"
   ]
  },
  {
   "cell_type": "code",
   "execution_count": null,
   "metadata": {
    "collapsed": false
   },
   "outputs": [],
   "source": [
    "# only look at the rows of the stations dataframe where the station_name column is 'Aldgate Station'\n",
    "stations[stations.station_name == 'Aldgate Station']"
   ]
  },
  {
   "cell_type": "code",
   "execution_count": null,
   "metadata": {
    "collapsed": false
   },
   "outputs": [],
   "source": [
    "# only look at the rows of the stations dataframe where the coordinate-x column is greater than 0\n",
    "stations[stations['coordinate-x'] > 0].head()"
   ]
  },
  {
   "cell_type": "markdown",
   "metadata": {},
   "source": [
    "### Hold on...\n",
    "\n",
    "Notice how we use `stations.station_name` in the first filter but `stations['coordinate-x'] > 0` in the second filter?\n",
    "\n",
    "Why doesn't this work?\n",
    "\n",
    "    stations[stations.coordinate-x > 0]"
   ]
  },
  {
   "cell_type": "code",
   "execution_count": null,
   "metadata": {
    "collapsed": false
   },
   "outputs": [],
   "source": [
    "# let's rename the column names so that there is no `-` in them\n",
    "stations = stations.rename(columns={'coordinate-x': 'x', 'coordinate-y': 'y', 'station_name': 'name'})\n",
    "\n",
    "# sanity check. also, a new function called tail(). Guess what it does?\n",
    "stations[stations.y > 51.5].tail()"
   ]
  },
  {
   "cell_type": "markdown",
   "metadata": {},
   "source": [
    "### Fun Distractions\n",
    "\n",
    "Let's take a quick break from Pandas, and talk about where you are going to tell your friend to go.\n",
    "\n",
    "We could just find the longitude/latitude coordinates for popular landmarks in London, but what's the fun in that? [Geo-caching](https://youtu.be/1YTqitVK-Ts) is fun, and you want to introduce your friend to it. We are going to generate a list of coordinates for your friend to visit."
   ]
  },
  {
   "cell_type": "code",
   "execution_count": null,
   "metadata": {
    "collapsed": false
   },
   "outputs": [],
   "source": [
    "from collections import namedtuple\n",
    "from random import uniform\n",
    "\n",
    "# here is a cool python feature. We could have also used pygeoif.geometry.Point, or just had an un-named tuple/list\n",
    "Coordinates = namedtuple('Coord', ['x', 'y'])\n",
    "\n",
    "# Our London playground is going to be between -1° to 1° longitude and 52° to 51° latitude\n",
    "targets_list = [\n",
    "    Coordinates(x=uniform(-1, 1), y=uniform(51,52)) \n",
    "    for ii in range(200)\n",
    "]\n",
    "print(targets_list[:5])"
   ]
  },
  {
   "cell_type": "code",
   "execution_count": null,
   "metadata": {
    "collapsed": false
   },
   "outputs": [],
   "source": [
    "# what's a pandas Series?\n",
    "targets = pd.Series(targets_list)\n",
    "print(targets.head())"
   ]
  },
  {
   "cell_type": "code",
   "execution_count": null,
   "metadata": {
    "collapsed": false
   },
   "outputs": [],
   "source": [
    "# you can also access Series and Dataframes using their index\n",
    "targets.iloc[0]"
   ]
  },
  {
   "cell_type": "code",
   "execution_count": null,
   "metadata": {
    "collapsed": false
   },
   "outputs": [],
   "source": [
    "# let's separate out x and y into two different columns\n",
    "# the apply function maps a function over a pandas Series or Dataframe\n",
    "targets = pd.DataFrame({\n",
    "    'x': targets.apply(lambda p: p.x),\n",
    "    'y': targets.apply(lambda p: p.y)\n",
    "})\n",
    "targets.head()"
   ]
  },
  {
   "cell_type": "markdown",
   "metadata": {},
   "source": [
    "### Data cleaning and more sanity checks"
   ]
  },
  {
   "cell_type": "code",
   "execution_count": null,
   "metadata": {
    "collapsed": false
   },
   "outputs": [],
   "source": [
    "# let's make sure that our data is squeeky clean\n",
    "stations.isnull().any()"
   ]
  },
  {
   "cell_type": "code",
   "execution_count": null,
   "metadata": {
    "collapsed": false
   },
   "outputs": [],
   "source": [
    "# another way to do this is to see if any columns have missing rows\n",
    "stations.count()"
   ]
  },
  {
   "cell_type": "markdown",
   "metadata": {},
   "source": [
    "### Let the computations begin!"
   ]
  },
  {
   "cell_type": "code",
   "execution_count": null,
   "metadata": {
    "collapsed": false
   },
   "outputs": [],
   "source": [
    "# let's assume the world is flat for the moment...\n",
    "from scipy.spatial import KDTree\n",
    "# http://docs.scipy.org/doc/scipy/reference/generated/scipy.spatial.KDTree.html\n",
    "stationsTree = KDTree(stations[['x', 'y']])\n",
    "targetsTree = KDTree(targets[['x', 'y']])"
   ]
  },
  {
   "cell_type": "code",
   "execution_count": null,
   "metadata": {
    "collapsed": false
   },
   "outputs": [],
   "source": [
    "# what's a good way to check how this works?\n",
    "# well if you have a small enough neighborhood radius, no stations should be neighbors with anybody but themselves\n",
    "print(stationsTree.count_neighbors(stationsTree, r=0.001))\n",
    "print(len(stations))"
   ]
  },
  {
   "cell_type": "code",
   "execution_count": null,
   "metadata": {
    "collapsed": false
   },
   "outputs": [],
   "source": [
    "# huh?\n",
    "print(stationsTree.count_neighbors(stationsTree, r=0.00001))"
   ]
  },
  {
   "cell_type": "code",
   "execution_count": null,
   "metadata": {
    "collapsed": false
   },
   "outputs": [],
   "source": [
    "stationsTree.query_pairs(r=0.001)"
   ]
  },
  {
   "cell_type": "code",
   "execution_count": null,
   "metadata": {
    "collapsed": false
   },
   "outputs": [],
   "source": [
    "# oh...\n",
    "stations.iloc[[11, 132, 288, 289]]"
   ]
  },
  {
   "cell_type": "markdown",
   "metadata": {},
   "source": [
    "### GeoCaching targets that are close to subway stations "
   ]
  },
  {
   "cell_type": "code",
   "execution_count": null,
   "metadata": {
    "collapsed": false
   },
   "outputs": [],
   "source": [
    "# what target points are within 1000m of a subway station?\n",
    "\n",
    "# let's assume that every 0.0001° is 7m\n",
    "# https://en.wikipedia.org/wiki/Geographic_coordinate_system#Expressing_latitude_and_longitude_as_linear_units\n",
    "radius = 1000.0 / 7 * 0.0001\n",
    "\n",
    "for idx, target in targets.iterrows():\n",
    "    close_by_stations_idx = stationsTree.query_ball_point([target.x, target.y], r=radius)\n",
    "    if close_by_stations_idx:\n",
    "        stations_name = stations.iloc[close_by_stations_idx]['name'].tolist()\n",
    "        # string formatting!\n",
    "        print('Target {} ({:.2f}, {:.2f}) is close to stations {}'.format(idx, target.x, target.y, stations_name) )"
   ]
  },
  {
   "cell_type": "markdown",
   "metadata": {},
   "source": [
    "What else can you try to do? Here is a couple suggestions:\n",
    "\n",
    "Access the google maps api to get transportation times between different subway stations (or also add in say 10 geocaching targets). Then try to figure out what is the quickest way to say visit all 10 targets!\n",
    "\n",
    "There are a couple ways to do this, and it also depends on your requirements (eg: do you want to finish where you started). Take a look at the different algorithms for the [shortest path problem](https://en.wikipedia.org/wiki/Shortest_path_problem), and the [travelling salesman problem](https://simple.wikipedia.org/wiki/Travelling_salesman_problem).\n",
    "\n",
    "Try to implement a particular algorithm yourself! (maybe learn to set up the algorithm in a separate file, and import it here)\n",
    "\n",
    "We found the shortest distance assuming that the world was flat- which is actually a pretty accurate approximation within London. Look into calculating the distance based on a globe-shaped geometry. It could be pretty easy to use a different distance function, but then you wouldn't be able to use the KDTrees. If you wanted to keep using that, you want to turn all coordinates to a vector to represent where they are located in space. Then the standard cartesian distance function would still work and so you can keep using KDTrees. One library for this is [proj4](https://github.com/jswhit/pyproj). Or for this usecase, you could just write a quick function to set that up yourself as well.\n",
    "\n",
    "Once you start getting into graph theory problems like TSP, maybe it would be cool to try setting up a Neo4j database and visualizing the data that way! (definitely out of the scope of this tutorial though)\n",
    "\n",
    "Lastly, [here](http://nbviewer.jupyter.org/github/mqlaql/geospatial-data/blob/master/Geospatial-Data-with-Python.ipynb) are some really cool map visualizations."
   ]
  }
 ],
 "metadata": {
  "kernelspec": {
   "display_name": "Python 3.5",
   "language": "python",
   "name": "python3.5"
  },
  "language_info": {
   "codemirror_mode": {
    "name": "ipython",
    "version": 3
   },
   "file_extension": ".py",
   "mimetype": "text/x-python",
   "name": "python",
   "nbconvert_exporter": "python",
   "pygments_lexer": "ipython3",
   "version": "3.5.1"
  }
 },
 "nbformat": 4,
 "nbformat_minor": 0
}
