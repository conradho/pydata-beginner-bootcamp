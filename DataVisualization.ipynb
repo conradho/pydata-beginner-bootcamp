{
 "cells": [
  {
   "cell_type": "markdown",
   "metadata": {},
   "source": [
    "# Data Visualization Notebook"
   ]
  },
  {
   "cell_type": "code",
   "execution_count": null,
   "metadata": {},
   "outputs": [],
   "source": [
    "# this is an important setup step to do upfront. without this none of your graphs will automatically display\n",
    "%pylab inline"
   ]
  },
  {
   "cell_type": "markdown",
   "metadata": {},
   "source": [
    "### Tweaking your charts"
   ]
  },
  {
   "cell_type": "markdown",
   "metadata": {},
   "source": [
    "Here is a simple chart of the square function"
   ]
  },
  {
   "cell_type": "code",
   "execution_count": null,
   "metadata": {},
   "outputs": [],
   "source": [
    "import matplotlib.pyplot as plt\n",
    "xs = range(100)\n",
    "ys = [x * x for x in xs]\n",
    "plt.plot(xs, ys)"
   ]
  },
  {
   "cell_type": "markdown",
   "metadata": {},
   "source": [
    "The default matplotlib graphs are ugly. Let's change it to a different plotting style. In fact you can even create and customize [your own style](http://matplotlib.org/users/style_sheets.html)!"
   ]
  },
  {
   "cell_type": "code",
   "execution_count": null,
   "metadata": {},
   "outputs": [],
   "source": [
    "matplotlib.style.use('ggplot')\n",
    "plt.plot(xs, ys)"
   ]
  },
  {
   "cell_type": "markdown",
   "metadata": {},
   "source": [
    "Like any good data scientist, let's label our axes"
   ]
  },
  {
   "cell_type": "code",
   "execution_count": null,
   "metadata": {},
   "outputs": [],
   "source": [
    "plt.plot(xs, ys)\n",
    "plt.ylabel('Happiness')\n",
    "plt.xlabel('Tutorial Progress')\n",
    "plt.title('How happy I am vs my tutorial progress')"
   ]
  },
  {
   "cell_type": "markdown",
   "metadata": {},
   "source": [
    "Let's say you become delirious when your happiness level reaches 4096 (because you are a big fan of [2048](https://en.wikipedia.org/wiki/2048_%28video_game%29)) Let's put a horizontal line in to denote that, and change the colors around so that you attain delerium past the red line."
   ]
  },
  {
   "cell_type": "code",
   "execution_count": null,
   "metadata": {},
   "outputs": [],
   "source": [
    "plt.ylabel('Happiness')\n",
    "plt.xlabel('Tutorial Progress')\n",
    "plt.title('How happy I am vs my tutorial progress')\n",
    "\n",
    "plt.plot(xs, ys, color='black')\n",
    "plt.axhline(4096, color='red')\n",
    "plt.text(x=10, y=4096, s='Delirium boundary', color='red')"
   ]
  },
  {
   "cell_type": "markdown",
   "metadata": {},
   "source": [
    "A note: passing in keyword arguments instead of position arguments really really helps you remember what the parameters are later on. It makes your code that much more descriptive and approachable for a coworker/fellow data scientist."
   ]
  },
  {
   "cell_type": "markdown",
   "metadata": {},
   "source": [
    "Let's say the people sitting next to you has a different utility (happiness) function. How would you make a plot for 3 different people?\n",
    "\n",
    "It turns out that we can do better to make our code reusable. Let's create our first function to increase reusability!"
   ]
  },
  {
   "cell_type": "code",
   "execution_count": null,
   "metadata": {},
   "outputs": [],
   "source": [
    "def label_everything():\n",
    "    plt.ylabel('Happiness')\n",
    "    plt.xlabel('Tutorial Progress')\n",
    "    plt.title('Happiness vs tutorial progress')\n",
    "\n",
    "# john has a linear utility function\n",
    "john_ys = xs\n",
    "plt.plot(xs, john_ys)\n",
    "label_everything()"
   ]
  },
  {
   "cell_type": "code",
   "execution_count": null,
   "metadata": {},
   "outputs": [],
   "source": [
    "conrad_ys = [sqrt(x) for x in xs]\n",
    "plt.plot(xs, conrad_ys)\n",
    "label_everything()"
   ]
  },
  {
   "cell_type": "markdown",
   "metadata": {},
   "source": [
    "Okay, so we can easily create plots for different people. But how do we combine it into a single plot?"
   ]
  },
  {
   "cell_type": "code",
   "execution_count": null,
   "metadata": {},
   "outputs": [],
   "source": [
    "plt.plot(xs, ys)\n",
    "plt.plot(xs, conrad_ys)\n",
    "plt.plot(xs, john_ys)\n",
    "label_everything()"
   ]
  },
  {
   "cell_type": "markdown",
   "metadata": {},
   "source": [
    "Hmmm. That doesn't really work."
   ]
  },
  {
   "cell_type": "code",
   "execution_count": null,
   "metadata": {},
   "outputs": [],
   "source": [
    "plt.plot(xs, ys, label=\"ME!\")\n",
    "plt.plot(xs, conrad_ys, label=\"Conrad\")\n",
    "plt.plot(xs, john_ys, label=\"John\")\n",
    "label_everything()\n",
    "plt.yscale('log')\n",
    "plt.legend()"
   ]
  },
  {
   "cell_type": "markdown",
   "metadata": {},
   "source": [
    "To move the legend location around (eg: outside of the chart), see [this](http://matplotlib.org/users/legend_guide.html#legend-location)."
   ]
  },
  {
   "cell_type": "markdown",
   "metadata": {},
   "source": [
    "### More advanced topics"
   ]
  },
  {
   "cell_type": "markdown",
   "metadata": {},
   "source": [
    "Another way to display our happiness is to show them side by side. Let's explore the dreaded complexities of subplots a little bit."
   ]
  },
  {
   "cell_type": "markdown",
   "metadata": {},
   "source": [
    "Let's use the `subplots()` function. There is also a `plt.subplot()` that creates just a single subplot and not other ones. But let's create them all now to illustrate an important concept:"
   ]
  },
  {
   "cell_type": "code",
   "execution_count": null,
   "metadata": {},
   "outputs": [],
   "source": [
    "# create a figure with 3 subplots (ie. axes)\n",
    "fig, (ax1, ax2, ax3) = plt.subplots(nrows=3, ncols=1, sharex=True)\n",
    "label_everything()"
   ]
  },
  {
   "cell_type": "markdown",
   "metadata": {},
   "source": [
    "You can see that the chart title and axis labels were applied to the last subplot (axes) created. This is because matplotlib actually secretly keeps track of the \"current\" figure and \"current\" axes you are on. All our labelling etc is implicitly done on the current figure/axes."
   ]
  },
  {
   "cell_type": "markdown",
   "metadata": {},
   "source": [
    "You can manipulate the current axes with `plt.gca()` to get the current axes, `plt.sca(ax1)` to set current to ax1, and `plt.cla()` to clear current axes, and similarly for the current figure (`gcf`, `scf`, `clf`)."
   ]
  },
  {
   "cell_type": "code",
   "execution_count": null,
   "metadata": {},
   "outputs": [],
   "source": [
    "fig, (ax1, ax2, ax3) = plt.subplots(nrows=3, ncols=1, sharex=True)\n",
    "\n",
    "# let's see if this does what we think it does\n",
    "plt.sca(ax2)\n",
    "label_everything()"
   ]
  },
  {
   "cell_type": "markdown",
   "metadata": {},
   "source": [
    "Now you can see why it might make sense to use `plt.subplot`- you implicitly set the current axes, allowing you to add labels/lines etc to it easily.\n",
    "\n",
    "It is actually possible to explicitly specify an axes as well. For example, you can use the command `ax1.axhline()`, which would allow you to set the horizontal line on the ax1 subplot even if the current axes is not ax1. However, you run into lots of _fun_ when the interface for ax1 differs from what you expect. For example, instead of `plt.title`, you are actually expected to call `ax1.set_title`.\n",
    "\n",
    "On the other hand, it's also _so fun_ to juggle implicit state when you are working with multiple figures or axes."
   ]
  },
  {
   "cell_type": "code",
   "execution_count": null,
   "metadata": {},
   "outputs": [],
   "source": [
    "def tell_the_tale_of_three_people():\n",
    "    fig, (ax1, ax2, ax3) = plt.subplots(nrows=3, ncols=1, sharex=True)\n",
    "\n",
    "    fig.suptitle('A Tale of Three People')\n",
    "    ax1.plot(xs, ys, label=\"ME!\")\n",
    "    ax2.plot(xs, conrad_ys, label=\"Conrad\")\n",
    "    ax3.plot(xs, john_ys, label=\"John\")\n",
    "\n",
    "tell_the_tale_of_three_people()"
   ]
  },
  {
   "cell_type": "markdown",
   "metadata": {},
   "source": [
    "Let's say you think the figure looks squashed."
   ]
  },
  {
   "cell_type": "code",
   "execution_count": null,
   "metadata": {},
   "outputs": [],
   "source": [
    "def enlarge(x_multiple=1, y_multiple=1):\n",
    "    figure = plt.gcf()  # do you remember what gcf() does?\n",
    "    original_width, original_height = figure.get_size_inches()\n",
    "    new_size = (original_width * x_multiple, original_height * y_multiple)\n",
    "    figure.set_size_inches(new_size)\n",
    "\n",
    "tell_the_tale_of_three_people()\n",
    "enlarge(y_multiple=1.5)"
   ]
  },
  {
   "cell_type": "markdown",
   "metadata": {},
   "source": [
    "Now, let's say instead of having `xs = range(100)`, you create `xs = range(1000000)`. You may notice that everything slows down a lot. In particular, if you are tracking a lot of people's utility functions, a very costly part may be the generation of the ys. How do you fix this?"
   ]
  },
  {
   "cell_type": "code",
   "execution_count": null,
   "metadata": {},
   "outputs": [],
   "source": [
    "# one way, of course, is to just store the function\n",
    "\n",
    "conrad = lambda x: sqrt(x)\n",
    "john = lambda x: x"
   ]
  },
  {
   "cell_type": "markdown",
   "metadata": {},
   "source": [
    "This is great if you just want to store the function / know about it. But what if you want to plot it etc?\n",
    "\n",
    "First of all, let us understand why it is that the function definition is so much more succinct (in terms of space efficiency). It is because it's saying, \"hey instead of generating and storing all these y's, instead, apply this function when you need it to get whatever y you want\".\n",
    "\n",
    "Why is it slow to create the 1,000,000 item ys right now? It's because your computer needs to loop over all 1,000,000 x's, and it doesn't start computing the next y until it's done the previous one.\n",
    "\n",
    "In this case, how to computing y is completely independent of the previous y's (there could be situations where this is not the case- eg: a recursive definition of the fibonacci sequence). Is there a way to tell your computer to parallelize these computations and do them all at once?"
   ]
  },
  {
   "cell_type": "code",
   "execution_count": null,
   "metadata": {},
   "outputs": [],
   "source": [
    "# why with the magic of python, it's just one click away!\n",
    "\n",
    "xs = range(1000000)\n",
    "# use numpy arrays\n",
    "xs_numpy = np.arange(1000000)\n",
    "\n",
    "# use ipython magic to time how long it takes for the following to execute\n",
    "%timeit [conrad(x) for x in xs]\n",
    "%timeit np.apply_along_axis(conrad, 0, xs_numpy)"
   ]
  },
  {
   "cell_type": "markdown",
   "metadata": {},
   "source": [
    "Look at that huge huge difference!"
   ]
  },
  {
   "cell_type": "markdown",
   "metadata": {},
   "source": [
    "Another really cool library to try out is pandas. Pandas is built on top of numpy and has a lot of friendly functions. One of which is helper functions for graphs!"
   ]
  },
  {
   "cell_type": "code",
   "execution_count": null,
   "metadata": {},
   "outputs": [],
   "source": [
    "import pandas as pd\n",
    "\n",
    "xs_pandas = pd.Series(xs)\n",
    "\n",
    "%timeit xs_pandas.apply(conrad)"
   ]
  },
  {
   "cell_type": "markdown",
   "metadata": {},
   "source": [
    "Interestingly, pandas does very poorly here. However, if you pass it optimized functions, it is a whole different story:"
   ]
  },
  {
   "cell_type": "code",
   "execution_count": null,
   "metadata": {},
   "outputs": [],
   "source": [
    "%timeit [log(x) for x in xs]\n",
    "%timeit np.apply_along_axis(np.log, 0, xs_numpy)\n",
    "%timeit xs_pandas.apply(np.log)"
   ]
  },
  {
   "cell_type": "markdown",
   "metadata": {},
   "source": [
    "And of course the great thing about pandas is..."
   ]
  },
  {
   "cell_type": "code",
   "execution_count": null,
   "metadata": {},
   "outputs": [],
   "source": [
    "ys_pandas = xs_pandas.apply(np.log)\n",
    "ys_pandas[1:100].plot(kind=\"area\")"
   ]
  },
  {
   "cell_type": "code",
   "execution_count": null,
   "metadata": {},
   "outputs": [],
   "source": [
    "everyone = pd.DataFrame({'conrad': conrad_ys, 'john': john_ys, 'me': ys})\n",
    "everyone.plot(subplots=True)"
   ]
  },
  {
   "cell_type": "code",
   "execution_count": null,
   "metadata": {},
   "outputs": [],
   "source": [
    "# There's also a lot more helper functions\n",
    "ys_pandas.head()"
   ]
  },
  {
   "cell_type": "code",
   "execution_count": null,
   "metadata": {},
   "outputs": [],
   "source": [
    "# describe and transpose\n",
    "ys_pandas.describe().T"
   ]
  },
  {
   "cell_type": "markdown",
   "metadata": {},
   "source": [
    "### Interactive content and FUN!"
   ]
  },
  {
   "cell_type": "code",
   "execution_count": null,
   "metadata": {},
   "outputs": [],
   "source": [
    "# Let's try importing a youtube video!\n",
    "from IPython.lib.display import YouTubeVideo\n",
    "vid = YouTubeVideo(\"OSGv2VnC0go\")\n",
    "display(vid)"
   ]
  },
  {
   "cell_type": "markdown",
   "metadata": {},
   "source": [
    "This is a very instructional video by the way. You should watch it if you haven't yet."
   ]
  },
  {
   "cell_type": "markdown",
   "metadata": {},
   "source": [
    "### Putting your charts and notebooks online\n",
    "\n",
    "Here is where we leave the trodden path. And by that I mean we are going to explore the world outside of your notebooks! You will need to use PythonAnywhere for the following sections. There are some pointers and instructions here. Talk to our coaches if you are confused."
   ]
  },
  {
   "cell_type": "markdown",
   "metadata": {},
   "source": [
    "The first exercise that we are going to try is to put a chart online. First, let's generate and save a chart on PythonAnywhere."
   ]
  },
  {
   "cell_type": "code",
   "execution_count": null,
   "metadata": {},
   "outputs": [],
   "source": [
    "ys_pandas[1:100].plot(kind=\"area\")\n",
    "plt.savefig('area_plot.png')"
   ]
  },
  {
   "cell_type": "code",
   "execution_count": null,
   "metadata": {},
   "outputs": [],
   "source": [
    "# you should be able to see it newly generated when you use the linux command `ls`\n",
    "!ls -lt"
   ]
  },
  {
   "cell_type": "markdown",
   "metadata": {},
   "source": [
    "You should also be able to see it by going to your www.pythonanywhere.com dashboard and navigating via the files tab."
   ]
  },
  {
   "cell_type": "code",
   "execution_count": null,
   "metadata": {},
   "outputs": [],
   "source": [
    "# figure out where you are\n",
    "!pwd"
   ]
  },
  {
   "cell_type": "code",
   "execution_count": null,
   "metadata": {},
   "outputs": [],
   "source": [
    "command_output = !pwd\n",
    "directory = command_output[0]\n",
    "print('The chart you saved should be at {}/area_plot.png'.format(directory))"
   ]
  },
  {
   "cell_type": "markdown",
   "metadata": {},
   "source": [
    "See if you can find it! When you click on it, you are able to view and download the picture. However, other people would not be able to access the picture without your PythonAnywhere account. Let's create a web app to host it online so everyone can access it!"
   ]
  },
  {
   "cell_type": "markdown",
   "metadata": {},
   "source": [
    "Go to the web tab and click on \"add a new web app\". You can choose any of the framework options (eg: Django, Web2py, Flask, Bottle) as we won't be using any of the frameworks to serve dynamic pages today.\n",
    "\n",
    "After you have setup the web app, scroll down to the static files configuration, and setup a url and a directory."
   ]
  },
  {
   "cell_type": "code",
   "execution_count": null,
   "metadata": {},
   "outputs": [],
   "source": [
    " print('For example, set the url to /pydata and the directory to {}'.format(directory))"
   ]
  },
  {
   "cell_type": "markdown",
   "metadata": {},
   "source": [
    "__Hit reload__, wait for it to reload, and then go to your webapp domain + /pydata/area_plot.png"
   ]
  },
  {
   "cell_type": "code",
   "execution_count": null,
   "metadata": {},
   "outputs": [],
   "source": [
    "command_output = !whoami\n",
    "your_website = 'https://{}.pythonanywhere.com'.format(command_output[0])\n",
    "image_url = '{}/pydata/area_plot.png'.format(your_website)\n",
    "print('For example, go to ' + image_url)"
   ]
  },
  {
   "cell_type": "code",
   "execution_count": null,
   "metadata": {},
   "outputs": [],
   "source": [
    "# In fact, you can now load that image back into this notebook over the internet now\n",
    "from IPython.display import Image\n",
    "Image(url=image_url)"
   ]
  },
  {
   "cell_type": "markdown",
   "metadata": {},
   "source": [
    "Similarly, you can do the exact same thing to serve a html version of your notebook online."
   ]
  },
  {
   "cell_type": "code",
   "execution_count": null,
   "metadata": {},
   "outputs": [],
   "source": [
    "!jupyter nbconvert DataVisualization.ipynb"
   ]
  },
  {
   "cell_type": "code",
   "execution_count": null,
   "metadata": {},
   "outputs": [],
   "source": [
    "# check that you have the new html notebook in your current directory\n",
    "!ls"
   ]
  },
  {
   "cell_type": "code",
   "execution_count": null,
   "metadata": {},
   "outputs": [],
   "source": [
    "expected_notebook_url = your_website + '/pydata/DataVisualization.html'\n",
    "print('For example, go to ' + expected_notebook_url)"
   ]
  },
  {
   "cell_type": "markdown",
   "metadata": {},
   "source": [
    "Now you know how we just displayed the online chart back into this notebook via the internet?\n",
    "\n",
    "Hmmm. What if we do the same thing with our notebook, and try displaying the notebook as a cell output?"
   ]
  },
  {
   "cell_type": "code",
   "execution_count": null,
   "metadata": {},
   "outputs": [],
   "source": [
    "from IPython.display import IFrame\n",
    "IFrame(expected_notebook_url, width=700, height=350)"
   ]
  },
  {
   "cell_type": "markdown",
   "metadata": {},
   "source": [
    "# Notebookception O.o ?! \n",
    "\n",
    "(╯°□°）╯︵ ┻━┻)\n",
    "\n",
    "(╯°□°）╯︵ ┻━┻)\n",
    "\n",
    "(╯°□°）╯︵ ┻━┻)"
   ]
  },
  {
   "cell_type": "markdown",
   "metadata": {},
   "source": [
    "If you want to look at data visualization more, I would suggestion reading about [common pitfalls](https://anaconda.org/jbednar/plotting_pitfalls/notebook). Look through the other notebooks for pretty charts that catch your eye, and making a chart out of it! [Here](http://nbviewer.jupyter.org/urls/gist.github.com/fonnesbeck/5850463/raw/a29d9ffb863bfab09ff6c1fc853e1d5bf69fe3e4/3.+Plotting+and+Visualization.ipynb) are some more pretty graphs that may inspire you."
   ]
  },
  {
   "cell_type": "markdown",
   "metadata": {},
   "source": [
    "### Using a Database\n",
    "\n",
    "Since you are already on PythonAnywhere for the easy hosting setup, you may also want to play around with accessing and manipulating data in mysql:\n",
    "1. creating a database- go the the databases tab and click create. You should also have a default database setup for you already. Click to start a mysql console.\n",
    "2. browsing around the database\n",
    "    - run \"`show databases;`\". What is the information_schema database?\n",
    "    - Make sure you are working on your own database by running \"`use <yourdbname>;`\". Then run \"`show tables;`\"- it will show you any existing tables that you have created. You can then use \"`describe <tableName>`\" to see more information about the individual fields.\n",
    "3. putting data into a database- look up how to do a [`CREATE TABLE`](http://www.w3schools.com/sql/sql_create_table.asp), and how to [`INSERT`](http://www.w3schools.com/sql/sql_insert.asp)\n",
    "4. getting data out of a database- try to do a [`SELECT`](http://www.w3schools.com/sql/sql_select.asp)\n",
    "5. backing up and restoring a database- this is probably best done outside of the mysql console. Look at some instructions [here](http://help.pythonanywhere.com/pages/MySQLBackupRestore) \n",
    "\n",
    "If you decide that writing SQL is not your thing, but you still want to use a database, you may also want to check out using an [ORM](https://en.wikipedia.org/wiki/Object-relational_mapping) such as sqlalchemy. If you want to build a website, web frameworks such as [Django](https://www.djangoproject.com/) also have their own ORM built in."
   ]
  }
 ],
 "metadata": {
  "kernelspec": {
   "display_name": "Environment (pydata)",
   "language": "",
   "name": "pydata"
  },
  "language_info": {
   "codemirror_mode": {
    "name": "ipython",
    "version": 3
   },
   "file_extension": ".py",
   "mimetype": "text/x-python",
   "name": "python",
   "nbconvert_exporter": "python",
   "pygments_lexer": "ipython3",
   "version": "3.6.0"
  }
 },
 "nbformat": 4,
 "nbformat_minor": 0
}
