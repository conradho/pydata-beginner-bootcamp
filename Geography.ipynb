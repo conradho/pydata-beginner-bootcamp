{
 "cells": [
  {
   "cell_type": "markdown",
   "metadata": {},
   "source": [
    "# Geography Notebook\n",
    "\n",
    "## Part 1 - Geocaching"
   ]
  },
  {
   "cell_type": "markdown",
   "metadata": {},
   "source": [
    "Your friend Kelly is coming to London on vacation and you want to help her plan out her journey- which spots to see and what routes to take to do it in the most efficient way.\n",
    "\n",
    "The data set that we are going to use is the [London tube/overgound locations](https://tfl.gov.uk/info-for/open-data-users/). To save time, we have already pre-downloaded and cleaned the data set for you. If you are interested in doing this yourself, you can register at the TFL website, get an api key, download the file, and clean it by removing all `\\t`, `\\n` and converting dos line endings to unix."
   ]
  },
  {
   "cell_type": "code",
   "execution_count": null,
   "metadata": {},
   "outputs": [],
   "source": [
    "import pandas as pd\n",
    "stations = pd.read_hdf('./datasets/london_stations.h5')\n",
    "\n",
    "# Let's examine the dataset\n",
    "stations.head()"
   ]
  },
  {
   "cell_type": "markdown",
   "metadata": {},
   "source": [
    "You can do some pretty cool stuff with a pandas dataframe, including filtering rows using conditionals like so:"
   ]
  },
  {
   "cell_type": "code",
   "execution_count": null,
   "metadata": {},
   "outputs": [],
   "source": [
    "# Only look at the rows of the stations dataframe where the station_name column is 'Aldgate Station'\n",
    "stations[stations.station_name == 'Aldgate Station']"
   ]
  },
  {
   "cell_type": "code",
   "execution_count": null,
   "metadata": {},
   "outputs": [],
   "source": [
    "# Only look at the rows of the stations dataframe where the coordinate-x column is greater than 0\n",
    "stations[stations['coordinate-x'] > 0].head()"
   ]
  },
  {
   "cell_type": "markdown",
   "metadata": {},
   "source": [
    "Hold on...\n",
    "\n",
    "Notice how we use `stations.station_name` in the first filter but `stations['coordinate-x'] > 0` in the second filter?\n",
    "\n",
    "That is because pandas allows you to access column names both as dictionary keys and as attributes!\n",
    "\n",
    "Here's a trick question- why doesn't this work?\n",
    "\n",
    "    stations[stations.coordinate-x > 0]"
   ]
  },
  {
   "cell_type": "code",
   "execution_count": null,
   "metadata": {},
   "outputs": [],
   "source": [
    "# Let's rename the column names so that there is no `-` in them\n",
    "stations = stations.rename(columns={'coordinate-x': 'x', 'coordinate-y': 'y', 'station_name': 'name'})\n",
    "\n",
    "# Sanity check. Also, here's a new function called tail(). Guess what it does?\n",
    "stations[stations.y > 51.5].tail()"
   ]
  },
  {
   "cell_type": "markdown",
   "metadata": {},
   "source": [
    "### Geo-caching\n",
    "\n",
    "Let's take a quick break from Pandas, and talk about where you are going to tell your friend to go.\n",
    "\n",
    "We could just tell him/her to visit popular landmarks in London, but what's the fun in that? [Geo-caching](https://youtu.be/1YTqitVK-Ts) is all the rage these days, and you want to introduce your friend to it. We are going to generate a list of longitude/latitude coordinates for your friend to visit."
   ]
  },
  {
   "cell_type": "code",
   "execution_count": null,
   "metadata": {},
   "outputs": [],
   "source": [
    "from collections import namedtuple\n",
    "from random import uniform\n",
    "\n",
    "# Here is a cool python feature.\n",
    "# (We could have also used pygeoif.geometry.Point, or just had an un-named tuple/list)\n",
    "Coordinates = namedtuple('Coord', ['x', 'y'])\n",
    "\n",
    "# Our London playground is going to be between -1° to 1° longitude and 52° to 51° latitude\n",
    "# We are going to generate 200 random locations\n",
    "targets_list = [\n",
    "    Coordinates(x=uniform(-1, 1), y=uniform(51,52)) \n",
    "    for ii in range(200)\n",
    "]\n",
    "\n",
    "# Let's list first 5 of them\n",
    "targets_list[:5]"
   ]
  },
  {
   "cell_type": "code",
   "execution_count": null,
   "metadata": {},
   "outputs": [],
   "source": [
    "# We can transform our list of tuples into pandas Series\n",
    "targets = pd.Series(targets_list)\n",
    "\n",
    "targets.head()"
   ]
  },
  {
   "cell_type": "code",
   "execution_count": null,
   "metadata": {},
   "outputs": [],
   "source": [
    "# Remember, that you can also access Series and Dataframes using their index\n",
    "targets.iloc[0]"
   ]
  },
  {
   "cell_type": "code",
   "execution_count": null,
   "metadata": {},
   "outputs": [],
   "source": [
    "# Let's separate out x and y into two different columns.\n",
    "# The apply function maps a function over a pandas Series or Dataframe.\n",
    "targets = pd.DataFrame({\n",
    "    'x': targets.apply(lambda p: p.x),\n",
    "    'y': targets.apply(lambda p: p.y)\n",
    "})\n",
    "\n",
    "targets.head()"
   ]
  },
  {
   "cell_type": "markdown",
   "metadata": {},
   "source": [
    "### Data cleaning and sanity checks"
   ]
  },
  {
   "cell_type": "code",
   "execution_count": null,
   "metadata": {},
   "outputs": [],
   "source": [
    "# Let's make sure that our data is squeeky clean\n",
    "stations.isnull().any()"
   ]
  },
  {
   "cell_type": "markdown",
   "metadata": {},
   "source": [
    "### Let the computations begin!"
   ]
  },
  {
   "cell_type": "markdown",
   "metadata": {},
   "source": [
    "Let's assume the world is flat for the moment...\n",
    "\n",
    "We will use a quick nearest-neighbor lookup to determine the closest location. See [this](http://docs.scipy.org/doc/scipy/reference/generated/scipy.spatial.KDTree.html) for more details about the KD-tree algorithm we are using."
   ]
  },
  {
   "cell_type": "code",
   "execution_count": null,
   "metadata": {},
   "outputs": [],
   "source": [
    "from scipy.spatial import KDTree\n",
    "\n",
    "stationsTree = KDTree(stations[['x', 'y']])\n",
    "targetsTree = KDTree(targets[['x', 'y']])"
   ]
  },
  {
   "cell_type": "markdown",
   "metadata": {},
   "source": [
    "What is a good way to check how this works?\n",
    "\n",
    "Well if you have a small enough neighborhood radius, no stations should be neighbors with anybody but themselves\n",
    "Thus, we should expact that the number of neighbours points to be equal to the number of stations."
   ]
  },
  {
   "cell_type": "code",
   "execution_count": null,
   "metadata": {},
   "outputs": [],
   "source": [
    "print(stationsTree.count_neighbors(stationsTree, r=0.001))\n",
    "print(len(stations))"
   ]
  },
  {
   "cell_type": "markdown",
   "metadata": {},
   "source": [
    "Huh? Not equal?\n",
    "\n",
    "Maybe the radius was too large?\n",
    "\n",
    "Let's do some quick checks:\n",
    "\n",
    "0.001° of Latitude correspond to about 111 meters, and 0.001° of Longitude (for London) correspond to about 71.6 meters.\n",
    "\n",
    "It is certainly possible, that London has some tube stations less than 100 meters away.\n",
    "\n",
    "Let's try a 10 times smaller radius (so 11 meters North/East or 7 meters West/East)."
   ]
  },
  {
   "cell_type": "code",
   "execution_count": null,
   "metadata": {},
   "outputs": [],
   "source": [
    "print(stationsTree.count_neighbors(stationsTree, r=0.0001))"
   ]
  },
  {
   "cell_type": "code",
   "execution_count": null,
   "metadata": {},
   "outputs": [],
   "source": [
    "# Huh? How about an even smaller radius?\n",
    "print(stationsTree.count_neighbors(stationsTree, r=0.00001))"
   ]
  },
  {
   "cell_type": "markdown",
   "metadata": {},
   "source": [
    "What does it mean? Are there stations that are less than 11 meters apart?\n",
    "\n",
    "Let's list them:"
   ]
  },
  {
   "cell_type": "code",
   "execution_count": null,
   "metadata": {},
   "outputs": [],
   "source": [
    "stationsTree.query_pairs(r=0.001)"
   ]
  },
  {
   "cell_type": "code",
   "execution_count": null,
   "metadata": {},
   "outputs": [],
   "source": [
    "stations.iloc[[11, 132, 288, 289]]"
   ]
  },
  {
   "cell_type": "markdown",
   "metadata": {},
   "source": [
    "Aha! It turns out that `Shepherd's Bush Central Station` is the same station as `Shepherd's Bush Hammersmith & City Station`.\n",
    "\n",
    "Definitely a reminder that we need to be careful and should take time to explore our data before we do any serious analysis."
   ]
  },
  {
   "cell_type": "markdown",
   "metadata": {},
   "source": [
    "Let's say we are lazy and don't want to walk far distances. Let's try to find the GeoCaching targets that are close to subway stations.\n",
    "\n",
    "What targets are within 1000m of a subway station? Let's [assume](https://en.wikipedia.org/wiki/Geographic_coordinate_system#Expressing_latitude_and_longitude_as_linear_units) that every 0.0001° is 7m."
   ]
  },
  {
   "cell_type": "code",
   "execution_count": null,
   "metadata": {},
   "outputs": [],
   "source": [
    "radius = 1000.0 / 7 * 0.0001\n",
    "\n",
    "for idx, target in targets.iterrows():\n",
    "    close_by_stations_idx = stationsTree.query_ball_point([target.x, target.y], r=radius)\n",
    "    if close_by_stations_idx:\n",
    "        stations_name = stations.iloc[close_by_stations_idx]['name'].tolist()\n",
    "        # string formatting!\n",
    "        print('Target {} at ({:.2f}°, {:.2f}°) is close to stations {}'.format(\n",
    "            idx, target.x, target.y, stations_name) )"
   ]
  },
  {
   "cell_type": "markdown",
   "metadata": {},
   "source": [
    "### Dig Deeper\n",
    "\n",
    "Here are a couple suggestions to explore further:\n",
    "\n",
    "- Access the google maps api to get transportation times between different subway stations. Then try to figure out what is the quickest way to say visit all 10 targets!\n",
    "\n",
    "- There are a couple ways to do this, and it also depends on your requirements (e.g.: do you want to finish where you started). Take a look at the different algorithms for the [shortest path problem](https://en.wikipedia.org/wiki/Shortest_path_problem), and the [travelling salesman problem](https://simple.wikipedia.org/wiki/Travelling_salesman_problem).\n",
    "\n",
    "- Try to implement a particular algorithm yourself! (maybe learn to set up the algorithm in a separate file, and import it here)\n",
    "\n",
    "- We calculated the shortest distances assuming that the world was flat- which is actually a pretty accurate approximation when considering distances within London. How about calculating the distance based on a globe-shaped geometry. It is pretty easy to use a different distance function, but then you wouldn't be able to use the KD-trees algorithm. If you wanted to keep using that, you want to turn all coordinates into a vector to represent where they are located in space. Then the standard cartesian distance function would still work and so you can keep using KD-trees. One library for this is [proj4](https://github.com/jswhit/pyproj). Or for this use case, you could just write a quick function to set that up yourself as well.\n",
    "\n",
    "- Once you start getting into graph theory problems like TSP, it could be cool to try setting up a [Neo4j](https://neo4j.com/developer/graph-database/) database and visualize data that way! (definitely out of the scope of this tutorial though)"
   ]
  },
  {
   "cell_type": "markdown",
   "metadata": {},
   "source": [
    "# Part 2 - Visualization\n",
    "\n",
    "For this part, if you are not doing this on PythonAnywhere and struggling with the basemap install, be sure to install the newest v1.10 version. It can be a bit tricky to install basemap but give it a try- there are many [tutorials](http://introtopython.org/visualization_earthquakes.html) and [resources](https://matplotlib.org/basemap/users/installing.html) on how to do it."
   ]
  },
  {
   "cell_type": "markdown",
   "metadata": {},
   "source": [
    "First off, let's try to make a map of the UK."
   ]
  },
  {
   "cell_type": "code",
   "execution_count": null,
   "metadata": {},
   "outputs": [],
   "source": [
    "# For the explanation of the parameters, see https://matplotlib.org/basemap/api/basemap_api.html.\n",
    "\n",
    "# We need to choose a projection. Here we will use 'aea' that means Albers Equal Area Projection,\n",
    "# a projection, in which we preserve the area surface but not angels (not every right angle will\n",
    "# be seen as a right).\n",
    "import matplotlib.pyplot as plt\n",
    "from mpl_toolkits.basemap import Basemap\n",
    "import numpy as np\n",
    "\n",
    "m = Basemap(\n",
    "    llcrnrlon=-10.5, llcrnrlat=49.5, urcrnrlon=3.5, urcrnrlat=59.5,\n",
    "    resolution='i', projection='aea', lon_0=-4.36, lat_0=54.7\n",
    ")\n",
    "\n",
    "fig, ax = plt.subplots(figsize=(15,15), dpi=80)\n",
    "\n",
    "m.drawcoastlines()\n",
    "m.drawcountries()\n",
    "\n",
    "m.fillcontinents(color='white',lake_color='aqua')\n",
    "\n",
    "# draw parallels and meridians.\n",
    "m.drawparallels(np.arange(-40, 61, 1), labels=[False,True,True,False])\n",
    "m.drawmeridians(np.arange(-20, 21, 1), labels=[True,False,False,True])\n",
    "m.drawmapboundary(fill_color='aqua')\n",
    "\n",
    "plt.title(\"Great Britain (in Albers Equal Area Projection)\")\n",
    "plt.show()"
   ]
  },
  {
   "cell_type": "markdown",
   "metadata": {},
   "source": [
    "**Dig Deeper:** Now try to use different projections and see how the map changes. Also try out different resolutions. Above we used `i` (intermediate). Try `l` (low) or `h` (high)."
   ]
  },
  {
   "cell_type": "markdown",
   "metadata": {},
   "source": [
    "Cool. So tt worked with the UK. Let's try to make a map of London."
   ]
  },
  {
   "cell_type": "code",
   "execution_count": null,
   "metadata": {},
   "outputs": [],
   "source": [
    "m = Basemap(\n",
    "    llcrnrlon=-0.59, llcrnrlat=51.23, urcrnrlon=0.41, urcrnrlat=51.73,\n",
    "    resolution='i', projection='aea', lon_0=-0.09, lat_0=51.43\n",
    ")\n",
    "\n",
    "fig, ax = plt.subplots(figsize=(15,15), dpi=80)\n",
    "\n",
    "m.drawcoastlines()\n",
    "m.drawcountries()\n",
    "\n",
    "m.fillcontinents(color='white',lake_color='aqua')\n",
    "\n",
    "# draw parallels and meridians.\n",
    "m.drawparallels(np.arange(50, 53, 0.1), labels=[False,True,True,False])\n",
    "m.drawmeridians(np.arange(-1, 2, 0.1), labels=[True,False,False,True])\n",
    "m.drawmapboundary(fill_color='aqua')\n",
    "\n",
    "plt.title(\"Londons (in Albers Equal Area Projection)\")\n",
    "plt.show()"
   ]
  },
  {
   "cell_type": "markdown",
   "metadata": {},
   "source": [
    "Oh naoosss! It's all white space. Where is London?\n",
    "\n",
    "We will have to add some administration borders. We can find the information here:  \n",
    "https://data.london.gov.uk/dataset/statistical-gis-boundary-files-london"
   ]
  },
  {
   "cell_type": "code",
   "execution_count": null,
   "metadata": {},
   "outputs": [],
   "source": [
    "# Download the files and unzip\n",
    "!rm -rf statistical-gis-boundaries-london*\n",
    "!wget 'https://files.datapress.com/london/dataset/statistical-gis-boundary-files-london/2016-10-03T13:52:28/statistical-gis-boundaries-london.zip' \n",
    "!unzip -q statistical-gis-boundaries-london.zip"
   ]
  },
  {
   "cell_type": "markdown",
   "metadata": {},
   "source": [
    "Let's see what we've got. We can load the shapefiles with the administration borders using geopandas. It has very similar syntax to the normal pandas. For more, see [this](https://automating-gis-processes.github.io/2016/Lesson2-geopandas-basics.html)."
   ]
  },
  {
   "cell_type": "code",
   "execution_count": null,
   "metadata": {},
   "outputs": [],
   "source": [
    "import geopandas as gpd\n",
    "\n",
    "# Let's use Borough level data\n",
    "borders = gpd.read_file('./statistical-gis-boundaries-london/ESRI/London_Borough_Excluding_MHW.shp')\n",
    "\n",
    "# Display the first few rows\n",
    "borders.head()"
   ]
  },
  {
   "cell_type": "markdown",
   "metadata": {},
   "source": [
    "What we need is the geometry part, i.e. the corners of the polygons that describe the borders of the MSOA regions."
   ]
  },
  {
   "cell_type": "code",
   "execution_count": null,
   "metadata": {},
   "outputs": [],
   "source": [
    "# let's see which kind of projection we are using\n",
    "borders.crs"
   ]
  },
  {
   "cell_type": "markdown",
   "metadata": {},
   "source": [
    "We are using `tmerc`, ie. Transverse Mercator Projection  \n",
    "(see https://matplotlib.org/basemap/users/tmerc.html)\n",
    "\n",
    "It will be more useful to transform it into the lattitude/longitude coordinates (EPSG:4326)  \n",
    "(see https://en.wikipedia.org/wiki/World_Geodetic_System)"
   ]
  },
  {
   "cell_type": "code",
   "execution_count": null,
   "metadata": {},
   "outputs": [],
   "source": [
    "borders = borders.to_crs(epsg='4326')\n",
    "borders.head()"
   ]
  },
  {
   "cell_type": "code",
   "execution_count": null,
   "metadata": {},
   "outputs": [],
   "source": [
    "# Perfect, it works!\n",
    "# Let's not forget to save the transformed shapes.\n",
    "borders.to_file(\"./borders_epsg4326.shp\")"
   ]
  },
  {
   "cell_type": "code",
   "execution_count": null,
   "metadata": {},
   "outputs": [],
   "source": [
    "# Now we can finally make our map\n",
    "m = Basemap(\n",
    "    llcrnrlon=-0.59, llcrnrlat=51.23, urcrnrlon=0.41, urcrnrlat=51.73,\n",
    "    resolution='i', projection='aea', lon_0=-0.09, lat_0=51.43\n",
    ")\n",
    "\n",
    "fig, ax = plt.subplots(figsize=(15,15), dpi=80)\n",
    "\n",
    "m.drawcoastlines()\n",
    "m.drawcountries()\n",
    "\n",
    "# Load the shapefiles again. There must have in lat/lon coordinates.\n",
    "# Note, that we should not specify shp extension below - it will be added automatically\n",
    "m.readshapefile('./borders_epsg4326', 'boroughs')\n",
    "\n",
    "m.fillcontinents(color='white',lake_color='aqua')\n",
    "\n",
    "# draw parallels and meridians.\n",
    "m.drawparallels(np.arange(50, 53, 0.1), labels=[False,True,True,False])\n",
    "m.drawmeridians(np.arange(-1, 2, 0.1), labels=[True,False,False,True])\n",
    "m.drawmapboundary(fill_color='aqua')\n",
    "\n",
    "plt.title(\"Londons with boroughs borders\")\n",
    "plt.show()"
   ]
  },
  {
   "cell_type": "markdown",
   "metadata": {},
   "source": [
    "Let's add now the stations and geo-caching targets that we want to visit."
   ]
  },
  {
   "cell_type": "code",
   "execution_count": null,
   "metadata": {},
   "outputs": [],
   "source": [
    "m = Basemap(\n",
    "        llcrnrlon=-0.59, llcrnrlat=51.23, urcrnrlon=0.41, urcrnrlat=51.73,\n",
    "        resolution='h', projection='aea', lon_0=-0.09, lat_0=51.43)\n",
    "\n",
    "fig, ax = plt.subplots(figsize=(15,15), dpi=80)\n",
    "\n",
    "m.drawcoastlines()\n",
    "m.drawcountries()\n",
    "\n",
    "m.readshapefile('./borders_epsg4326', 'districts')\n",
    "\n",
    "m.fillcontinents(color='white',lake_color='aqua')\n",
    "\n",
    "# draw parallels and meridians.\n",
    "m.drawparallels(np.arange(50, 53, 0.1), labels=[False,True,True,False])\n",
    "m.drawmeridians(np.arange(-1, 2, 0.1), labels=[True,False,False,True])\n",
    "m.drawmapboundary(fill_color='aqua')\n",
    "\n",
    "# add points\n",
    "for i, row in stations.iterrows():\n",
    "    x, y = m(row.x, row.y)\n",
    "    m.plot(x, y, 'bo', markersize=8)\n",
    "\n",
    "for i, row in targets.iterrows():\n",
    "    x, y = m(row.x, row.y)\n",
    "    m.plot(x, y, 'ro', markersize=8)\n",
    "    \n",
    "plt.title(\"London - stations and targets\")\n",
    "plt.show()"
   ]
  },
  {
   "cell_type": "markdown",
   "metadata": {},
   "source": [
    "### Dig Deeper\n",
    "\n",
    "Play around with the maps- add a legend, label the dots, show only the dots that are close to stations. If you dug deeper previously and solved the TSP problem, try connecting the dots on the map- that would be a cool visualization of the TSP solution.\n",
    "\n",
    "Lastly, [here](http://nbviewer.jupyter.org/github/mqlaql/geospatial-data/blob/master/Geospatial-Data-with-Python.ipynb) are some really cool map visualizations. Read, be inspire, and make some cool maps!"
   ]
  }
 ],
 "metadata": {
  "kernelspec": {
   "display_name": "Environment (pydata)",
   "language": "",
   "name": "pydata"
  },
  "language_info": {
   "codemirror_mode": {
    "name": "ipython",
    "version": 3
   },
   "file_extension": ".py",
   "mimetype": "text/x-python",
   "name": "python",
   "nbconvert_exporter": "python",
   "pygments_lexer": "ipython3",
   "version": "3.6.0"
  }
 },
 "nbformat": 4,
 "nbformat_minor": 1
}
